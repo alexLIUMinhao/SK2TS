{
 "cells": [
  {
   "cell_type": "code",
   "execution_count": null,
   "id": "cae7b506-64c9-4216-b4ea-87272f5c432f",
   "metadata": {},
   "outputs": [],
   "source": [
    "from unsloth import FastLanguageModel  # 导入FastLanguageModel类，用来加载和使用模型\n",
    "import torch  # 导入torch工具，用于处理模型的数学运算"
   ]
  },
  {
   "cell_type": "code",
   "execution_count": 1,
   "id": "50996013-cee1-43a9-a292-488c161867cd",
   "metadata": {},
   "outputs": [
    {
     "name": "stdout",
     "output_type": "stream",
     "text": [
      "🦥 Unsloth: Will patch your computer to enable 2x faster free finetuning.\n",
      "🦥 Unsloth Zoo will now patch everything to make training faster!\n",
      "INFO 03-31 08:45:32 [__init__.py:256] Automatically detected platform cuda.\n",
      "Standard import failed for UnslothGKDTrainer: No module named 'UnslothGKDTrainer'. Using tempfile instead!\n",
      "==((====))==  Unsloth 2025.3.15: Fast Llama patching. Transformers: 4.49.0. vLLM: 0.8.1.\n",
      "   \\\\   /|    NVIDIA GeForce RTX 4090. Num GPUs = 2. Max memory: 23.643 GB. Platform: Linux.\n",
      "O^O/ \\_/ \\    Torch: 2.6.0+cu124. CUDA: 8.9. CUDA Toolkit: 12.4. Triton: 3.2.0\n",
      "\\        /    Bfloat16 = TRUE. FA [Xformers = 0.0.29.post2. FA2 = False]\n",
      " \"-____-\"     Free license: http://github.com/unslothai/unsloth\n",
      "Unsloth: Fast downloading is enabled - ignore downloading bars which are red colored!\n"
     ]
    },
    {
     "data": {
      "application/vnd.jupyter.widget-view+json": {
       "model_id": "fae94bd8599740f2b0d88be25a1c8d4f",
       "version_major": 2,
       "version_minor": 0
      },
      "text/plain": [
       "Loading checkpoint shards:   0%|          | 0/2 [00:00<?, ?it/s]"
      ]
     },
     "metadata": {},
     "output_type": "display_data"
    }
   ],
   "source": [
    "\n",
    "\n",
    "max_seq_length = 2048  # 设置模型处理文本的最大长度，相当于给模型设置一个“最大容量”\n",
    "dtype = None  # 设置数据类型，让模型自动选择最适合的精度\n",
    "load_in_4bit = True  # 使用4位量化来节省内存，就像把大箱子压缩成小箱子\n",
    "\n",
    "# 加载预训练模型，并获取tokenizer工具\n",
    "model, tokenizer = FastLanguageModel.from_pretrained(\n",
    "    model_name=\"/data/repo/llm/models/deepseek-ai/DeepSeek-R1-Distill-Llama-8B\",  # 指定要加载的模型名称\n",
    "    max_seq_length=max_seq_length,  # 使用前面设置的最大长度\n",
    "    dtype=dtype,  # 使用前面设置的数据类型\n",
    "    load_in_4bit=load_in_4bit,  # 使用4位量化\n",
    "    # token=\"hf_...\",  # 如果需要访问授权模型，可以在这里填入密钥\n",
    ")"
   ]
  },
  {
   "cell_type": "code",
   "execution_count": 2,
   "id": "78c0e578-25bb-4125-89ed-9cc277682024",
   "metadata": {},
   "outputs": [],
   "source": [
    "prompt_style = \"\"\"以下是描述任务的指令，以及提供进一步上下文的输入。\n",
    "请写出一个适当完成请求的回答。\n",
    "在回答之前，请仔细思考问题，并创建一个逻辑连贯的思考过程，以确保回答准确无误。\n",
    "\n",
    "### 指令：\n",
    "你是一位精通卜卦、星象和运势预测的算命大师。今年是2025年二月廿八 乙巳年 【蛇年】 己卯月 乙未日。\n",
    "请回答以下算命问题。\n",
    "\n",
    "### 问题：\n",
    "{}\n",
    "\n",
    "### 回答：\n",
    "<think>{}\"\"\"\n",
    "# 定义提示风格的字符串模板，用于格式化问题\n",
    "\n",
    "question = \"男，1991年 农历三月廿九 辛未年 【羊年】 癸巳月 癸未日 出生，想了解未来几年的事业运势\"\n",
    "# 定义具体的算命问题"
   ]
  },
  {
   "cell_type": "code",
   "execution_count": 3,
   "id": "d6338fe9-c411-48ff-b4b5-ed8c595a9ea6",
   "metadata": {},
   "outputs": [
    {
     "name": "stderr",
     "output_type": "stream",
     "text": [
      "huggingface/tokenizers: The current process just got forked, after parallelism has already been used. Disabling parallelism to avoid deadlocks...\n",
      "To disable this warning, you can either:\n",
      "\t- Avoid using `tokenizers` before the fork if possible\n",
      "\t- Explicitly set the environment variable TOKENIZERS_PARALLELISM=(true | false)\n",
      "huggingface/tokenizers: The current process just got forked, after parallelism has already been used. Disabling parallelism to avoid deadlocks...\n",
      "To disable this warning, you can either:\n",
      "\t- Avoid using `tokenizers` before the fork if possible\n",
      "\t- Explicitly set the environment variable TOKENIZERS_PARALLELISM=(true | false)\n"
     ]
    },
    {
     "name": "stdout",
     "output_type": "stream",
     "text": [
      "<｜begin▁of▁sentence｜>以下是描述任务的指令，以及提供进一步上下文的输入。\n",
      "请写出一个适当完成请求的回答。\n",
      "在回答之前，请仔细思考问题，并创建一个逻辑连贯的思考过程，以确保回答准确无误。\n",
      "\n",
      "### 指令：\n",
      "你是一位精通卜卦、星象和运势预测的算命大师。今年是2025年二月廿八 乙巳年 【蛇年】 己卯月 乙未日。\n",
      "请回答以下算命问题。\n",
      "\n",
      "### 问题：\n",
      "男，1991年 农历三月廿九 辛未年 【羊年】 癸巳月 癸未日 出生，想了解未来几年的事业运势\n",
      "\n",
      "### 回答：\n",
      "<think>\n",
      "好的，我来分析一下这位男士的未来事业运势。首先，根据他的出生日期和所在年份，今年是2025年，属于蛇年。他的出生年份是1991年，农历三月廿九，属于辛未年。根据中国传统算命的方法，出生年份和所在年份的干支可以帮助分析运势。\n",
      "\n",
      "首先，计算他的出生年份和今年的干支。辛未年到乙巳年，已经过去了34年。34年对应的干支是“乙”（因为乙=2，34除以10余4，4对应的是乙）。因此，他的出生年份是辛未，今年是乙巳。\n",
      "\n",
      "接下来，分析他的命理格局。根据传统算命，命格主要看出生年份的年支和所在年份的年支。他的出生年份是辛未，今年是乙巳。辛未对应的是“未”，而乙巳对应的是“巳”。\n",
      "\n",
      "在事业方面，未和巳相克，意味着在事业上会遇到一些挑战或需要克服的困难。未代表“五”，巳代表“四”，五和四相克，通常意味着在竞争中会遇到对手较强的可能，需要更加努力和聪明的策略来应对。\n",
      "\n",
      "另外，考虑到他出生在辛未年，而今年是乙巳年，属于蛇年，这可能会带来一些变化。在事业上，可能会遇到一些转折点或新的机会，但需要他自己去积极主动才能抓住这些机会。\n",
      "\n",
      "综合来看，这位男士在未来几年的事业运势需要注意克服一些挑战，保持积极心态，抓住机会，灵活应对变化，这样才能在事业上取得更好的发展。\n",
      "</think>\n",
      "\n",
      "根据您提供的信息，我将为您进行详细的运势分析。以下是您的事业运势分析：\n",
      "\n",
      "### 事业运势分析\n",
      "\n",
      "1. **当前运势概述**：\n",
      "   您的出生年份为1991年（辛未年），今年2025年是乙巳年。根据传统算命，出生年份和所在年份的干支会影响命运格局。辛未到乙巳，已经过去了34年，干支为“乙”（34除以10余4，余数为4，代表“乙”）。\n",
      "\n",
      "2. **事业方面的分析**：\n",
      "   - **年支比较**：您的出生年份为辛未，今年是乙巳。辛未（未）与乙巳（巳）相克（未=5，巳=4，5和4相克）。这意味着在事业上，可能会遇到一些挑战，需要克服困难。\n",
      "   - **运势展望**：在未来几年内，您可能会遇到一些转折点或新的机会。为了抓住这些机会，您需要保持积极的心态，灵活应对变化，合理规划事业发展。\n",
      "\n",
      "3. **建议和展望**：\n",
      "   - **保持积极心态**：面对挑战时，保持乐观，积极应对。\n",
      "   - **抓住机遇**：注意那些可能带来转机的机会，抓住它们并善用。\n",
      "   - **提升能力**：不断学习和提升自己的专业技能和综合素质，以应对未来的挑战和变化。\n",
      "\n",
      "### 总结\n",
      "\n",
      "综上所述，虽然未来几年您在事业上可能会遇到一些挑战，但通过保持积极心态、抓住机遇和提升自身能力，您是能够克服困难、实现事业目标的。希望这份分析对您有所帮助。<｜end▁of▁sentence｜>\n"
     ]
    }
   ],
   "source": [
    "FastLanguageModel.for_inference(model)\n",
    "# 准备模型以进行推理\n",
    "\n",
    "inputs = tokenizer([prompt_style.format(question, \"\")], return_tensors=\"pt\").to(\"cuda\")\n",
    "\n",
    "# 使用 tokenizer 对格式化后的问题进行编码，并移动到 GPU\n",
    "\n",
    "outputs = model.generate(\n",
    "    input_ids=inputs.input_ids,\n",
    "    attention_mask=inputs.attention_mask,\n",
    "    max_new_tokens=1200,\n",
    "    use_cache=True,\n",
    ")\n",
    "# 使用模型生成回答\n",
    "\n",
    "response = tokenizer.batch_decode(outputs)\n",
    "# 解码模型生成的输出为可读文本\n",
    "\n",
    "print(response[0])\n",
    "# 打印生成的回答部分"
   ]
  },
  {
   "cell_type": "code",
   "execution_count": null,
   "id": "52dc0aad-1a26-4f30-94be-9594e9d286ca",
   "metadata": {},
   "outputs": [],
   "source": []
  }
 ],
 "metadata": {
  "kernelspec": {
   "display_name": "deepseek_env_new",
   "language": "python",
   "name": "deepseek_env_new"
  },
  "language_info": {
   "codemirror_mode": {
    "name": "ipython",
    "version": 3
   },
   "file_extension": ".py",
   "mimetype": "text/x-python",
   "name": "python",
   "nbconvert_exporter": "python",
   "pygments_lexer": "ipython3",
   "version": "3.9.21"
  }
 },
 "nbformat": 4,
 "nbformat_minor": 5
}
